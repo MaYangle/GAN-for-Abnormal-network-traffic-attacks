{
 "cells": [
  {
   "cell_type": "markdown",
   "id": "9409c582-88c4-47b4-b0c9-82487a2bca97",
   "metadata": {},
   "source": [
    "## 1. Initial Dataset"
   ]
  },
  {
   "cell_type": "code",
   "execution_count": 1,
   "id": "8acb06f9-bed9-4825-a5f6-0e04cb13def5",
   "metadata": {},
   "outputs": [
    {
     "name": "stdout",
     "output_type": "stream",
     "text": [
      "Requirement already satisfied: pandas in /opt/conda/lib/python3.12/site-packages (2.2.3)\n",
      "Requirement already satisfied: scikit-learn in /opt/conda/lib/python3.12/site-packages (1.6.1)\n",
      "Requirement already satisfied: scikit-image in /opt/conda/lib/python3.12/site-packages (0.25.2)\n",
      "Requirement already satisfied: numpy in /opt/conda/lib/python3.12/site-packages (2.2.3)\n",
      "Requirement already satisfied: sdv in /opt/conda/lib/python3.12/site-packages (1.18.0)\n",
      "Requirement already satisfied: python-dateutil>=2.8.2 in /opt/conda/lib/python3.12/site-packages (from pandas) (2.9.0.post0)\n",
      "Requirement already satisfied: pytz>=2020.1 in /opt/conda/lib/python3.12/site-packages (from pandas) (2025.1)\n",
      "Requirement already satisfied: tzdata>=2022.7 in /opt/conda/lib/python3.12/site-packages (from pandas) (2025.1)\n",
      "Requirement already satisfied: scipy>=1.6.0 in /opt/conda/lib/python3.12/site-packages (from scikit-learn) (1.15.2)\n",
      "Requirement already satisfied: joblib>=1.2.0 in /opt/conda/lib/python3.12/site-packages (from scikit-learn) (1.4.2)\n",
      "Requirement already satisfied: threadpoolctl>=3.1.0 in /opt/conda/lib/python3.12/site-packages (from scikit-learn) (3.5.0)\n",
      "Requirement already satisfied: networkx>=3.0 in /opt/conda/lib/python3.12/site-packages (from scikit-image) (3.4.2)\n",
      "Requirement already satisfied: pillow>=10.1 in /opt/conda/lib/python3.12/site-packages (from scikit-image) (11.1.0)\n",
      "Requirement already satisfied: imageio!=2.35.0,>=2.33 in /opt/conda/lib/python3.12/site-packages (from scikit-image) (2.37.0)\n",
      "Requirement already satisfied: tifffile>=2022.8.12 in /opt/conda/lib/python3.12/site-packages (from scikit-image) (2025.2.18)\n",
      "Requirement already satisfied: packaging>=21 in /opt/conda/lib/python3.12/site-packages (from scikit-image) (24.1)\n",
      "Requirement already satisfied: lazy-loader>=0.4 in /opt/conda/lib/python3.12/site-packages (from scikit-image) (0.4)\n",
      "Requirement already satisfied: boto3<2.0.0,>=1.28 in /opt/conda/lib/python3.12/site-packages (from sdv) (1.37.10)\n",
      "Requirement already satisfied: botocore<2.0.0,>=1.31 in /opt/conda/lib/python3.12/site-packages (from sdv) (1.37.10)\n",
      "Requirement already satisfied: cloudpickle>=2.1.0 in /opt/conda/lib/python3.12/site-packages (from sdv) (3.1.1)\n",
      "Requirement already satisfied: graphviz>=0.13.2 in /opt/conda/lib/python3.12/site-packages (from sdv) (0.20.3)\n",
      "Requirement already satisfied: tqdm>=4.29 in /opt/conda/lib/python3.12/site-packages (from sdv) (4.66.5)\n",
      "Requirement already satisfied: copulas>=0.12.0 in /opt/conda/lib/python3.12/site-packages (from sdv) (0.12.1)\n",
      "Requirement already satisfied: ctgan>=0.10.2 in /opt/conda/lib/python3.12/site-packages (from sdv) (0.11.0)\n",
      "Requirement already satisfied: deepecho>=0.6.1 in /opt/conda/lib/python3.12/site-packages (from sdv) (0.7.0)\n",
      "Requirement already satisfied: rdt>=1.13.2 in /opt/conda/lib/python3.12/site-packages (from sdv) (1.14.0)\n",
      "Requirement already satisfied: sdmetrics>=0.17.0 in /opt/conda/lib/python3.12/site-packages (from sdv) (0.19.0)\n",
      "Requirement already satisfied: platformdirs>=4.0 in /opt/conda/lib/python3.12/site-packages (from sdv) (4.3.6)\n",
      "Requirement already satisfied: pyyaml>=6.0.1 in /opt/conda/lib/python3.12/site-packages (from sdv) (6.0.2)\n",
      "Requirement already satisfied: jmespath<2.0.0,>=0.7.1 in /opt/conda/lib/python3.12/site-packages (from boto3<2.0.0,>=1.28->sdv) (1.0.1)\n",
      "Requirement already satisfied: s3transfer<0.12.0,>=0.11.0 in /opt/conda/lib/python3.12/site-packages (from boto3<2.0.0,>=1.28->sdv) (0.11.4)\n",
      "Requirement already satisfied: urllib3!=2.2.0,<3,>=1.25.4 in /opt/conda/lib/python3.12/site-packages (from botocore<2.0.0,>=1.31->sdv) (2.2.3)\n",
      "Requirement already satisfied: plotly>=5.10.0 in /opt/conda/lib/python3.12/site-packages (from copulas>=0.12.0->sdv) (6.0.0)\n",
      "Requirement already satisfied: torch>=2.2.0 in /opt/conda/lib/python3.12/site-packages (from ctgan>=0.10.2->sdv) (2.6.0)\n",
      "Requirement already satisfied: six>=1.5 in /opt/conda/lib/python3.12/site-packages (from python-dateutil>=2.8.2->pandas) (1.17.0)\n",
      "Requirement already satisfied: Faker>=17 in /opt/conda/lib/python3.12/site-packages (from rdt>=1.13.2->sdv) (37.0.0)\n",
      "Requirement already satisfied: narwhals>=1.15.1 in /opt/conda/lib/python3.12/site-packages (from plotly>=5.10.0->copulas>=0.12.0->sdv) (1.30.0)\n",
      "Requirement already satisfied: filelock in /opt/conda/lib/python3.12/site-packages (from torch>=2.2.0->ctgan>=0.10.2->sdv) (3.17.0)\n",
      "Requirement already satisfied: typing-extensions>=4.10.0 in /opt/conda/lib/python3.12/site-packages (from torch>=2.2.0->ctgan>=0.10.2->sdv) (4.12.2)\n",
      "Requirement already satisfied: jinja2 in /opt/conda/lib/python3.12/site-packages (from torch>=2.2.0->ctgan>=0.10.2->sdv) (3.1.6)\n",
      "Requirement already satisfied: fsspec in /opt/conda/lib/python3.12/site-packages (from torch>=2.2.0->ctgan>=0.10.2->sdv) (2025.3.0)\n",
      "Requirement already satisfied: nvidia-cuda-nvrtc-cu12==12.4.127 in /opt/conda/lib/python3.12/site-packages (from torch>=2.2.0->ctgan>=0.10.2->sdv) (12.4.127)\n",
      "Requirement already satisfied: nvidia-cuda-runtime-cu12==12.4.127 in /opt/conda/lib/python3.12/site-packages (from torch>=2.2.0->ctgan>=0.10.2->sdv) (12.4.127)\n",
      "Requirement already satisfied: nvidia-cuda-cupti-cu12==12.4.127 in /opt/conda/lib/python3.12/site-packages (from torch>=2.2.0->ctgan>=0.10.2->sdv) (12.4.127)\n",
      "Requirement already satisfied: nvidia-cudnn-cu12==9.1.0.70 in /opt/conda/lib/python3.12/site-packages (from torch>=2.2.0->ctgan>=0.10.2->sdv) (9.1.0.70)\n",
      "Requirement already satisfied: nvidia-cublas-cu12==12.4.5.8 in /opt/conda/lib/python3.12/site-packages (from torch>=2.2.0->ctgan>=0.10.2->sdv) (12.4.5.8)\n",
      "Requirement already satisfied: nvidia-cufft-cu12==11.2.1.3 in /opt/conda/lib/python3.12/site-packages (from torch>=2.2.0->ctgan>=0.10.2->sdv) (11.2.1.3)\n",
      "Requirement already satisfied: nvidia-curand-cu12==10.3.5.147 in /opt/conda/lib/python3.12/site-packages (from torch>=2.2.0->ctgan>=0.10.2->sdv) (10.3.5.147)\n",
      "Requirement already satisfied: nvidia-cusolver-cu12==11.6.1.9 in /opt/conda/lib/python3.12/site-packages (from torch>=2.2.0->ctgan>=0.10.2->sdv) (11.6.1.9)\n",
      "Requirement already satisfied: nvidia-cusparse-cu12==12.3.1.170 in /opt/conda/lib/python3.12/site-packages (from torch>=2.2.0->ctgan>=0.10.2->sdv) (12.3.1.170)\n",
      "Requirement already satisfied: nvidia-cusparselt-cu12==0.6.2 in /opt/conda/lib/python3.12/site-packages (from torch>=2.2.0->ctgan>=0.10.2->sdv) (0.6.2)\n",
      "Requirement already satisfied: nvidia-nccl-cu12==2.21.5 in /opt/conda/lib/python3.12/site-packages (from torch>=2.2.0->ctgan>=0.10.2->sdv) (2.21.5)\n",
      "Requirement already satisfied: nvidia-nvtx-cu12==12.4.127 in /opt/conda/lib/python3.12/site-packages (from torch>=2.2.0->ctgan>=0.10.2->sdv) (12.4.127)\n",
      "Requirement already satisfied: nvidia-nvjitlink-cu12==12.4.127 in /opt/conda/lib/python3.12/site-packages (from torch>=2.2.0->ctgan>=0.10.2->sdv) (12.4.127)\n",
      "Requirement already satisfied: triton==3.2.0 in /opt/conda/lib/python3.12/site-packages (from torch>=2.2.0->ctgan>=0.10.2->sdv) (3.2.0)\n",
      "Requirement already satisfied: setuptools in /opt/conda/lib/python3.12/site-packages (from torch>=2.2.0->ctgan>=0.10.2->sdv) (75.1.0)\n",
      "Requirement already satisfied: sympy==1.13.1 in /opt/conda/lib/python3.12/site-packages (from torch>=2.2.0->ctgan>=0.10.2->sdv) (1.13.1)\n",
      "Requirement already satisfied: mpmath<1.4,>=1.1.0 in /opt/conda/lib/python3.12/site-packages (from sympy==1.13.1->torch>=2.2.0->ctgan>=0.10.2->sdv) (1.3.0)\n",
      "Requirement already satisfied: MarkupSafe>=2.0 in /opt/conda/lib/python3.12/site-packages (from jinja2->torch>=2.2.0->ctgan>=0.10.2->sdv) (3.0.2)\n"
     ]
    }
   ],
   "source": [
    "!pip install pandas scikit-learn scikit-image numpy sdv"
   ]
  },
  {
   "cell_type": "code",
   "execution_count": 2,
   "id": "initial_id",
   "metadata": {
    "ExecuteTime": {
     "end_time": "2025-03-06T15:42:36.659760Z",
     "start_time": "2025-03-06T15:39:34.032046Z"
    }
   },
   "outputs": [
    {
     "name": "stdout",
     "output_type": "stream",
     "text": [
      "🚀 启动数据预处理...\n"
     ]
    },
    {
     "name": "stderr",
     "output_type": "stream",
     "text": [
      "📥 加载原始CSV文件: 100%|███████████████████████████████████████████████████████████████████████████████████████████████████████████████████████████████████████████████████████████████████████████| 8/8 [00:51<00:00,  6.40s/file]\n"
     ]
    },
    {
     "name": "stdout",
     "output_type": "stream",
     "text": [
      "🔄 合并数据中...\n",
      "✅ 成功赋值列名\n",
      "🧹 清洗数据（NaN / Infinity）...\n",
      "✅ 清洗后剩余样本数: 2827876\n",
      "📐 执行 Min-Max 归一化...\n",
      "🎉 归一化完成！\n",
      "✅ 所有预处理完成，数据保存至: /home/maia-user/myl/sc/Datasets/processed_total.csv\n"
     ]
    }
   ],
   "source": [
    "import pandas as pd\n",
    "from tqdm import tqdm\n",
    "import os\n",
    "import numpy as np\n",
    "from sklearn.preprocessing import MinMaxScaler\n",
    "\n",
    "# ---------- 归一化处理函数 ----------\n",
    "def normalize_dataframe(df, label_column=\"Label\"):\n",
    "    \"\"\"\n",
    "    对 DataFrame 进行数据清洗和归一化：\n",
    "    - 非数值强制转换\n",
    "    - 删除 NaN 和 inf 行\n",
    "    - Min-Max 归一化\n",
    "    - 返回 X_scaled, y\n",
    "    \"\"\"\n",
    "    print(f\"🧹 清洗数据（NaN / Infinity）...\")\n",
    "\n",
    "    df = df.copy()\n",
    "    if label_column not in df.columns:\n",
    "        raise ValueError(f\"❌ Label 列 '{label_column}' 不存在\")\n",
    "\n",
    "    labels = df[label_column].reset_index(drop=True)\n",
    "    features = df.drop(columns=[label_column])\n",
    "\n",
    "    # 类型转换\n",
    "    features = features.apply(pd.to_numeric, errors='coerce')\n",
    "    features = features.replace([np.inf, -np.inf], np.nan)\n",
    "\n",
    "    # 清除有问题的样本\n",
    "    cleaned = pd.concat([features, labels], axis=1).dropna()\n",
    "    print(f\"✅ 清洗后剩余样本数: {cleaned.shape[0]}\")\n",
    "\n",
    "    # 归一化\n",
    "    features_cleaned = cleaned.drop(columns=[label_column])\n",
    "    labels_cleaned = cleaned[label_column].reset_index(drop=True)\n",
    "\n",
    "    print(f\"📐 执行 Min-Max 归一化...\")\n",
    "    scaler = MinMaxScaler()\n",
    "    features_scaled = pd.DataFrame(scaler.fit_transform(features_cleaned), columns=features_cleaned.columns)\n",
    "\n",
    "    print(\"🎉 归一化完成！\")\n",
    "    return features_scaled, labels_cleaned\n",
    "\n",
    "# ---------- 合并原始数据 ----------\n",
    "def writeData(csv_path):\n",
    "    df = pd.read_csv(csv_path, header=None, encoding='utf-8', low_memory=False)\n",
    "    return df\n",
    "\n",
    "def mergeData():\n",
    "    dataset_files = [\n",
    "        \"/home/maia-user/myl/sc/Datasets/Monday-WorkingHours.pcap_ISCX.csv\",\n",
    "        \"/home/maia-user/myl/sc/Datasets/Friday-WorkingHours-Afternoon-DDos.pcap_ISCX.csv\",\n",
    "        \"/home/maia-user/myl/sc/Datasets/Friday-WorkingHours-Afternoon-PortScan.pcap_ISCX.csv\",\n",
    "        \"/home/maia-user/myl/sc/Datasets/Friday-WorkingHours-Morning.pcap_ISCX.csv\",\n",
    "        \"/home/maia-user/myl/sc/Datasets/Thursday-WorkingHours-Afternoon-Infilteration.pcap_ISCX.csv\",\n",
    "        \"/home/maia-user/myl/sc/Datasets/Thursday-WorkingHours-Morning-WebAttacks.pcap_ISCX.csv\",\n",
    "        \"/home/maia-user/myl/sc/Datasets/Tuesday-WorkingHours.pcap_ISCX.csv\",\n",
    "        \"/home/maia-user/myl/sc/Datasets/Wednesday-workingHours.pcap_ISCX.csv\"\n",
    "    ]\n",
    "\n",
    "    frames = []\n",
    "    for file in tqdm(dataset_files, desc=\"📥 加载原始CSV文件\", unit=\"file\"):\n",
    "        if os.path.exists(file):\n",
    "            df = writeData(file)\n",
    "            df = df.drop([0])  # 删除第一行标题行\n",
    "            frames.append(df)\n",
    "        else:\n",
    "            print(f\"⚠️ 文件 {file} 不存在，跳过\")\n",
    "\n",
    "    print(\"🔄 合并数据中...\")\n",
    "    result = pd.concat(frames, ignore_index=True)\n",
    "    return result\n",
    "\n",
    "# ---------- 执行整个流程 ----------\n",
    "print(\"🚀 启动数据预处理...\")\n",
    "raw_data = mergeData()\n",
    "\n",
    "# 加载列名\n",
    "with open(\"/home/maia-user/myl/sc/column_names.txt\") as f:\n",
    "    col_names = [line.strip() for line in f.readlines()]\n",
    "\n",
    "if len(col_names) == raw_data.shape[1]:\n",
    "    raw_data.columns = col_names\n",
    "    print(\"✅ 成功赋值列名\")\n",
    "else:\n",
    "    raise ValueError(f\"❌ 列名数不匹配：列名 {len(col_names)} 个，数据列数 {raw_data.shape[1]}\")\n",
    "\n",
    "# ---------- 调用归一化 ----------\n",
    "X_scaled, y = normalize_dataframe(raw_data, label_column=\"Label\")\n",
    "\n",
    "# ---------- 保存最终处理结果 ----------\n",
    "processed_df = pd.concat([X_scaled, y], axis=1)\n",
    "output_file = \"/home/maia-user/myl/sc/Datasets/processed_total.csv\"\n",
    "processed_df.to_csv(output_file, index=False)\n",
    "print(f\"✅ 所有预处理完成，数据保存至: {output_file}\")\n"
   ]
  },
  {
   "cell_type": "code",
   "execution_count": 3,
   "id": "4363bf64-0575-4a0d-8f81-6a182e3abae4",
   "metadata": {
    "scrolled": true
   },
   "outputs": [
    {
     "name": "stdout",
     "output_type": "stream",
     "text": [
      "✅ 列名成功赋值\n",
      "Label\n",
      "BENIGN                        2271320\n",
      "DoS Hulk                       230124\n",
      "PortScan                       158804\n",
      "DDoS                           128025\n",
      "DoS GoldenEye                   10293\n",
      "FTP-Patator                      7935\n",
      "SSH-Patator                      5897\n",
      "DoS slowloris                    5796\n",
      "DoS Slowhttptest                 5499\n",
      "Bot                              1956\n",
      "Web Attack � Brute Force         1507\n",
      "Web Attack � XSS                  652\n",
      "Infiltration                       36\n",
      "Web Attack � Sql Injection         21\n",
      "Heartbleed                         11\n",
      "Name: count, dtype: int64\n"
     ]
    }
   ],
   "source": [
    "# 从文件重新读取列名（确保是正确的、干净的）\n",
    "df = processed_df.copy()\n",
    "\n",
    "with open(\"/home/maia-user/myl/sc/column_names.txt\") as f:\n",
    "    col_names = [line.strip() for line in f.readlines()]\n",
    "\n",
    "# 如果最后一列是 'Label'，不用再手动加了（你已经包含它了）\n",
    "if len(col_names) != df.shape[1]:\n",
    "    print(f\"❌ 列数不匹配：列名 {len(col_names)} 个，数据实际列数 {df.shape[1]}\")\n",
    "else:\n",
    "    df.columns = col_names\n",
    "    print(\"✅ 列名成功赋值\")\n",
    "\n",
    "\n",
    "print(df[\"Label\"].value_counts())\n"
   ]
  },
  {
   "cell_type": "markdown",
   "id": "72d5578b-9d13-485f-afd4-cc902744671e",
   "metadata": {},
   "source": [
    "## 2. Sample Datasets"
   ]
  },
  {
   "cell_type": "code",
   "execution_count": 4,
   "id": "411a4653-b246-4228-9229-7c7d79c286bb",
   "metadata": {},
   "outputs": [
    {
     "name": "stdout",
     "output_type": "stream",
     "text": [
      "✅ 列名成功赋值\n",
      "Label\n",
      "BENIGN                        2271320\n",
      "DoS Hulk                       230124\n",
      "PortScan                       158804\n",
      "DDoS                           128025\n",
      "DoS GoldenEye                   10293\n",
      "FTP-Patator                      7935\n",
      "SSH-Patator                      5897\n",
      "DoS slowloris                    5796\n",
      "DoS Slowhttptest                 5499\n",
      "Bot                              1956\n",
      "Web Attack � Brute Force         1507\n",
      "Web Attack � XSS                  652\n",
      "Infiltration                       36\n",
      "Web Attack � Sql Injection         21\n",
      "Heartbleed                         11\n",
      "Name: count, dtype: int64\n"
     ]
    }
   ],
   "source": [
    "import pandas as pd\n",
    "from tqdm import tqdm\n",
    "import os\n",
    "import pandas as pd\n",
    "from sklearn.model_selection import train_test_split\n",
    "from sklearn.ensemble import RandomForestClassifier\n",
    "from sklearn.metrics import classification_report, confusion_matrix\n",
    "\n",
    "df = pd.read_csv('/home/maia-user/myl/sc/Datasets/processed_total.csv')\n",
    "\n",
    "with open(\"/home/maia-user/myl/sc/column_names.txt\") as f:\n",
    "    col_names = [line.strip() for line in f.readlines()]\n",
    "\n",
    "# 如果最后一列是 'Label'，不用再手动加了（你已经包含它了）\n",
    "if len(col_names) != df.shape[1]:\n",
    "    print(f\"❌ 列数不匹配：列名 {len(col_names)} 个，数据实际列数 {df.shape[1]}\")\n",
    "else:\n",
    "    df.columns = col_names\n",
    "    print(\"✅ 列名成功赋值\")\n",
    "    \n",
    "print(df[\"Label\"].value_counts())"
   ]
  },
  {
   "cell_type": "code",
   "execution_count": 5,
   "id": "771cf8e2-a51c-488e-bafe-e02973c0bc25",
   "metadata": {},
   "outputs": [
    {
     "name": "stdout",
     "output_type": "stream",
     "text": [
      "🎯 合并后的标签分布：\n",
      "Label\n",
      "BENIGN                        2271320\n",
      "DoS Hulk                       230124\n",
      "PortScan                       158804\n",
      "DDoS                           128025\n",
      "DoS GoldenEye                   10293\n",
      "FTP-Patator                      7935\n",
      "SSH-Patator                      5897\n",
      "DoS slowloris                    5796\n",
      "DoS Slowhttptest                 5499\n",
      "Bot                              1956\n",
      "Web Attack � Brute Force         1507\n",
      "Web Attack � XSS                  652\n",
      "Infiltration                       36\n",
      "Web Attack � Sql Injection         21\n",
      "Heartbleed                         11\n",
      "Name: count, dtype: int64\n"
     ]
    }
   ],
   "source": [
    "# 假设你已经读取好 df（含 Label 列）\n",
    "# 下面是你需要合并的原始类标签\n",
    "rare_classes = [\n",
    "    \"Infiltration\",\n",
    "    \"Web Attack � XSS\",\n",
    "    \"Web Attack � Sql Injection\",\n",
    "    \"Heartbleed\"\n",
    "]\n",
    "\n",
    "# 替换为 RareAttack\n",
    "# df[\"Label\"] = df[\"Label\"].replace(rare_classes, \"RareAttack\")\n",
    "\n",
    "# 查看合并后的标签分布\n",
    "print(\"🎯 合并后的标签分布：\")\n",
    "print(df[\"Label\"].value_counts())"
   ]
  },
  {
   "cell_type": "code",
   "execution_count": 6,
   "id": "36edc952-679f-4b05-85a9-bc71904b88b4",
   "metadata": {},
   "outputs": [
    {
     "name": "stdout",
     "output_type": "stream",
     "text": [
      "✅ 筛选后的数据：\n",
      "Label\n",
      "BENIGN                        100000\n",
      "Web Attack � XSS                 652\n",
      "Infiltration                      36\n",
      "Web Attack � Sql Injection        21\n",
      "Heartbleed                        11\n",
      "Name: count, dtype: int64\n",
      "🧪 使用特征总数: 78\n",
      "🧠 特征列（前5个）: ['Destination Port', 'Flow Duration', 'Total Fwd Packets', 'Total Backward Packets', 'Total Length of Fwd Packets']\n",
      "📊 分类报告:\n",
      "                            precision    recall  f1-score   support\n",
      "\n",
      "                    BENIGN       1.00      1.00      1.00     20000\n",
      "                Heartbleed       1.00      1.00      1.00         2\n",
      "              Infiltration       1.00      0.71      0.83         7\n",
      "Web Attack � Sql Injection       0.00      0.00      0.00         4\n",
      "          Web Attack � XSS       1.00      0.94      0.97       131\n",
      "\n",
      "                  accuracy                           1.00     20144\n",
      "                 macro avg       0.80      0.73      0.76     20144\n",
      "              weighted avg       1.00      1.00      1.00     20144\n",
      "\n",
      "📉 混淆矩阵:\n",
      "[[20000     0     0     0     0]\n",
      " [    0     2     0     0     0]\n",
      " [    2     0     5     0     0]\n",
      " [    4     0     0     0     0]\n",
      " [    8     0     0     0   123]]\n"
     ]
    },
    {
     "name": "stderr",
     "output_type": "stream",
     "text": [
      "/home/maia-user/.local/lib/python3.10/site-packages/sklearn/metrics/_classification.py:1565: UndefinedMetricWarning: Precision is ill-defined and being set to 0.0 in labels with no predicted samples. Use `zero_division` parameter to control this behavior.\n",
      "  _warn_prf(average, modifier, f\"{metric.capitalize()} is\", len(result))\n",
      "/home/maia-user/.local/lib/python3.10/site-packages/sklearn/metrics/_classification.py:1565: UndefinedMetricWarning: Precision is ill-defined and being set to 0.0 in labels with no predicted samples. Use `zero_division` parameter to control this behavior.\n",
      "  _warn_prf(average, modifier, f\"{metric.capitalize()} is\", len(result))\n",
      "/home/maia-user/.local/lib/python3.10/site-packages/sklearn/metrics/_classification.py:1565: UndefinedMetricWarning: Precision is ill-defined and being set to 0.0 in labels with no predicted samples. Use `zero_division` parameter to control this behavior.\n",
      "  _warn_prf(average, modifier, f\"{metric.capitalize()} is\", len(result))\n"
     ]
    }
   ],
   "source": [
    "# 筛选 BENIGN 和目标攻击类别\n",
    "benign_df = df[df[\"Label\"] == \"BENIGN\"].sample(n=100000, random_state=42)\n",
    "target_df = df[df[\"Label\"].isin(rare_classes)]\n",
    "\n",
    "# 合并样本构建小型数据集\n",
    "small_df = pd.concat([benign_df, target_df], ignore_index=True)\n",
    "print(\"✅ 筛选后的数据：\")\n",
    "print(small_df[\"Label\"].value_counts())\n",
    "\n",
    "\n",
    "# 特征和标签拆分\n",
    "X = small_df.drop(columns=[\"Label\"])\n",
    "y = small_df[\"Label\"]\n",
    "\n",
    "print(f\"🧪 使用特征总数: {X.shape[1]}\")  # 预期应该是 78\n",
    "print(\"🧠 特征列（前5个）:\", X.columns.tolist()[:5])\n",
    "\n",
    "# 数据划分\n",
    "X_train, X_test, y_train, y_test = train_test_split(X, y, stratify=y, test_size=0.2, random_state=42)\n",
    "\n",
    "# 训练 baseline 模型（随机森林）\n",
    "clf = RandomForestClassifier(n_estimators=100, random_state=42)\n",
    "clf.fit(X_train, y_train)\n",
    "\n",
    "# 评估模型\n",
    "y_pred = clf.predict(X_test)\n",
    "print(\"📊 分类报告:\")\n",
    "print(classification_report(y_test, y_pred))\n",
    "print(\"📉 混淆矩阵:\")\n",
    "print(confusion_matrix(y_test, y_pred))"
   ]
  },
  {
   "cell_type": "markdown",
   "id": "f6b80c22-af9d-43c9-b229-a5b68aa5c55d",
   "metadata": {},
   "source": [
    "### 3. The use of GAN"
   ]
  },
  {
   "cell_type": "code",
   "execution_count": 7,
   "id": "e625f83a-167f-4c30-ab7a-650e29e88b7e",
   "metadata": {},
   "outputs": [],
   "source": [
    "# from ctgan import CTGAN\n",
    "# import pandas as pd\n",
    "\n",
    "# # ✅ 确保 `rare_small_df` 的索引正确\n",
    "# rare_small_df = target_df.reset_index(drop=True)\n",
    "\n",
    "# # ✅ 确保列名不会成为数据\n",
    "# rare_features = rare_small_df.drop(columns=[\"Label\"]).copy()\n",
    "\n",
    "# # 🔍 识别类别特征（非数值列）\n",
    "# discrete_columns = rare_features.select_dtypes(include=['object']).columns.tolist()\n",
    "\n",
    "# print(\"🔹 识别到的类别列:\", discrete_columns)\n",
    "\n",
    "# # ✅ 初始化 CTGAN（可调整 epochs）\n",
    "# ctgan = CTGAN(epochs=500, verbose=True)\n",
    "\n",
    "# # ✅ 训练模型（正确指定离散列）\n",
    "# ctgan.fit(rare_features, discrete_columns=discrete_columns)\n",
    "\n",
    "# # ✅ 生成指定数量的样本（如 620）\n",
    "# synthetic_samples = ctgan.sample(400)\n",
    "\n",
    "# # ✅ 给生成数据添加标签列\n",
    "# synthetic_samples[\"Label\"] = \"RareAttack\"\n",
    "\n",
    "# # ✅ 确保列名正确\n",
    "# synthetic_samples.columns = rare_features.columns.tolist() + [\"Label\"]\n",
    "\n",
    "# # 查看生成结果\n",
    "# print(synthetic_samples.head())"
   ]
  },
  {
   "cell_type": "code",
   "execution_count": 8,
   "id": "70d15718-3c63-498f-8c93-ab523ad19b56",
   "metadata": {},
   "outputs": [],
   "source": [
    "# train_df_aug = pd.concat([benign_df, target_df, synthetic_samples], ignore_index=True)\n",
    "# print(\"✅ 增强训练集类别分布:\")\n",
    "# print(train_df_aug[\"Label\"].value_counts())\n"
   ]
  },
  {
   "cell_type": "code",
   "execution_count": 9,
   "id": "d98176fa-d47a-439a-b813-2c89275f2a24",
   "metadata": {},
   "outputs": [],
   "source": [
    "# # 特征和标签\n",
    "# X_aug = train_df_aug.drop(columns=[\"Label\"])\n",
    "# y_aug = train_df_aug[\"Label\"]\n",
    "\n",
    "# # 划分训练测试集\n",
    "# X_train_aug, X_test_aug, y_train_aug, y_test_aug = train_test_split(X_aug, y_aug, stratify=y_aug, test_size=0.2, random_state=42)\n",
    "\n",
    "# # 训练增强版模型\n",
    "# clf_aug = RandomForestClassifier(n_estimators=100, random_state=42)\n",
    "# clf_aug.fit(X_train_aug, y_train_aug)\n",
    "\n",
    "# # 预测评估\n",
    "# y_pred_aug = clf_aug.predict(X_test_aug)\n",
    "\n",
    "# from sklearn.metrics import classification_report, confusion_matrix\n",
    "\n",
    "# print(\"📊 增强版分类报告:\")\n",
    "# print(classification_report(y_test_aug, y_pred_aug))\n",
    "# print(\"📉 混淆矩阵:\")\n",
    "# print(confusion_matrix(y_test_aug, y_pred_aug))\n"
   ]
  },
  {
   "cell_type": "code",
   "execution_count": 10,
   "id": "847a620a-a0bc-4f01-9da5-72c10089040f",
   "metadata": {},
   "outputs": [],
   "source": [
    "# # 评估模型\n",
    "# y_pred = clf_aug.predict(X_test)\n",
    "# print(\"📊 分类报告:\")\n",
    "# print(classification_report(y_test, y_pred))\n",
    "# print(\"📉 混淆矩阵:\")\n",
    "# print(confusion_matrix(y_test, y_pred))"
   ]
  },
  {
   "cell_type": "markdown",
   "id": "cfcafc78-9471-4dc5-9340-f1d79381110b",
   "metadata": {},
   "source": [
    "4. The use of CTGAN"
   ]
  },
  {
   "cell_type": "code",
   "execution_count": 11,
   "id": "3e29a06b-cb62-4750-8c7f-e9bae16eb150",
   "metadata": {},
   "outputs": [
    {
     "name": "stdout",
     "output_type": "stream",
     "text": [
      "🧪 当前类别: Web Attack � XSS，真实样本数量: 652\n",
      "🚀 训练 CTGAN (使用 100 条真实样本)...\n"
     ]
    },
    {
     "name": "stderr",
     "output_type": "stream",
     "text": [
      "/home/maia-user/.local/lib/python3.10/site-packages/torch/autograd/graph.py:823: UserWarning: Attempting to run cuBLAS, but there was no current CUDA context! Attempting to set the primary context... (Triggered internally at /pytorch/aten/src/ATen/cuda/CublasHandlePool.cpp:180.)\n",
      "  return Variable._execution_engine.run_backward(  # Calls into the C++ engine to run the backward pass\n",
      "Gen. (2.11) | Discrim. (-0.16): 100%|█████████████████████████████████████████████████████████████████████████████████████████████████████████████████████████████████████████████████████████████| 300/300 [00:55<00:00,  5.44it/s]\n"
     ]
    },
    {
     "name": "stdout",
     "output_type": "stream",
     "text": [
      "🎯 将生成 500 条增强样本。\n",
      "✅ 增强完成: Web Attack � XSS → 500 条样本\n",
      "\n",
      "🧪 当前类别: Infiltration，真实样本数量: 36\n",
      "🚀 训练 CTGAN (使用 36 条真实样本)...\n"
     ]
    },
    {
     "name": "stderr",
     "output_type": "stream",
     "text": [
      "Gen. (-5.02) | Discrim. (0.17): 100%|█████████████████████████████████████████████████████████████████████████████████████████████████████████████████████████████████████████████████████████████| 300/300 [00:51<00:00,  5.86it/s]\n"
     ]
    },
    {
     "name": "stdout",
     "output_type": "stream",
     "text": [
      "🎯 将生成 180 条增强样本。\n",
      "✅ 增强完成: Infiltration → 180 条样本\n",
      "\n",
      "🧪 当前类别: Web Attack � Sql Injection，真实样本数量: 21\n",
      "🚀 训练 CTGAN (使用 21 条真实样本)...\n"
     ]
    },
    {
     "name": "stderr",
     "output_type": "stream",
     "text": [
      "Gen. (2.23) | Discrim. (0.77): 100%|██████████████████████████████████████████████████████████████████████████████████████████████████████████████████████████████████████████████████████████████| 300/300 [00:56<00:00,  5.27it/s]\n"
     ]
    },
    {
     "name": "stdout",
     "output_type": "stream",
     "text": [
      "🎯 将生成 105 条增强样本。\n",
      "✅ 增强完成: Web Attack � Sql Injection → 105 条样本\n",
      "\n",
      "🧪 当前类别: Heartbleed，真实样本数量: 11\n",
      "⚠️ 样本数过少 (<20)，跳过该类增强。\n",
      "\n",
      "🎉 所有类别增强完毕，总共生成样本数: 785\n"
     ]
    }
   ],
   "source": [
    "import pandas as pd\n",
    "from ctgan import CTGAN\n",
    "\n",
    "# ✅ 设定稀有类标签列表\n",
    "rare_classes = [\n",
    "    \"Web Attack � XSS\",\n",
    "    \"Infiltration\",\n",
    "    \"Web Attack � Sql Injection\",\n",
    "    \"Heartbleed\"\n",
    "]\n",
    "\n",
    "# ✅ 设置增强参数\n",
    "min_real_threshold = 20      # 最少多少条样本才允许训练 GAN\n",
    "max_real_sample = 100        # 每类最多使用多少条真实样本训练 GAN\n",
    "default_generate_n = 500     # 默认生成数量\n",
    "scaling_ratio = 5            # 每个真实样本扩增多少倍\n",
    "\n",
    "# ✅ 初始化生成结果容器\n",
    "synthetic_samples_list = []\n",
    "\n",
    "for category in rare_classes:\n",
    "    # 提取该类别所有真实样本\n",
    "    category_df = df[df[\"Label\"] == category].copy()\n",
    "    available_n = len(category_df)\n",
    "\n",
    "    print(f\"🧪 当前类别: {category}，真实样本数量: {available_n}\")\n",
    "\n",
    "    if available_n < min_real_threshold:\n",
    "        print(f\"⚠️ 样本数过少 (<{min_real_threshold})，跳过该类增强。\\n\")\n",
    "        continue\n",
    "\n",
    "    # 限制最大训练数量\n",
    "    train_n = min(max_real_sample, available_n)\n",
    "    real_samples = category_df.sample(n=train_n, random_state=42).reset_index(drop=True)\n",
    "\n",
    "    # 获取特征列\n",
    "    features = real_samples.drop(columns=[\"Label\"])\n",
    "    discrete_columns = features.select_dtypes(include=[\"object\"]).columns.tolist()\n",
    "\n",
    "    # 初始化并训练 CTGAN\n",
    "    print(f\"🚀 训练 CTGAN (使用 {train_n} 条真实样本)...\")\n",
    "    ctgan = CTGAN(epochs=300, verbose=True)\n",
    "    ctgan.fit(features, discrete_columns=discrete_columns)\n",
    "\n",
    "    # 🧠 设定生成样本数量：Heartbleed 特别处理\n",
    "    if category == \"Heartbleed\":\n",
    "        generate_n = 50\n",
    "    else:\n",
    "        generate_n = min(default_generate_n, train_n * scaling_ratio)\n",
    "\n",
    "    print(f\"🎯 将生成 {generate_n} 条增强样本。\")\n",
    "\n",
    "    # 生成样本\n",
    "    synthetic = ctgan.sample(generate_n)\n",
    "    synthetic[\"Label\"] = category\n",
    "    synthetic.columns = features.columns.tolist() + [\"Label\"]\n",
    "\n",
    "    # 添加进总列表\n",
    "    synthetic_samples_list.append(synthetic)\n",
    "    print(f\"✅ 增强完成: {category} → {generate_n} 条样本\\n\")\n",
    "\n",
    "# 合并所有增强样本\n",
    "final_synthetic_data = pd.concat(synthetic_samples_list, ignore_index=True)\n",
    "print(f\"🎉 所有类别增强完毕，总共生成样本数: {len(final_synthetic_data)}\")\n"
   ]
  },
  {
   "cell_type": "code",
   "execution_count": 12,
   "id": "a710c086-ffbe-4177-b0d8-306fccdf7c9b",
   "metadata": {},
   "outputs": [
    {
     "name": "stdout",
     "output_type": "stream",
     "text": [
      "Label\n",
      "Web Attack � XSS              500\n",
      "Infiltration                  180\n",
      "Web Attack � Sql Injection    105\n",
      "Name: count, dtype: int64\n"
     ]
    }
   ],
   "source": [
    "print(final_synthetic_data[\"Label\"].value_counts())"
   ]
  },
  {
   "cell_type": "code",
   "execution_count": 13,
   "id": "0bba853c-7566-4823-b598-7089619bdd25",
   "metadata": {},
   "outputs": [
    {
     "name": "stdout",
     "output_type": "stream",
     "text": [
      "Label\n",
      "BENIGN                        100000\n",
      "Web Attack � XSS                 500\n",
      "Infiltration                     180\n",
      "Web Attack � Sql Injection       105\n",
      "Heartbleed                        11\n",
      "Name: count, dtype: int64\n",
      "📊 分类报告:\n",
      "                            precision    recall  f1-score   support\n",
      "\n",
      "                    BENIGN       1.00      1.00      1.00     20000\n",
      "                Heartbleed       1.00      1.00      1.00         2\n",
      "              Infiltration       1.00      0.71      0.83         7\n",
      "Web Attack � Sql Injection       0.00      0.00      0.00         4\n",
      "          Web Attack � XSS       1.00      0.94      0.97       131\n",
      "\n",
      "                  accuracy                           1.00     20144\n",
      "                 macro avg       0.80      0.73      0.76     20144\n",
      "              weighted avg       1.00      1.00      1.00     20144\n",
      "\n",
      "📉 混淆矩阵:\n",
      "[[20000     0     0     0     0]\n",
      " [    0     2     0     0     0]\n",
      " [    2     0     5     0     0]\n",
      " [    4     0     0     0     0]\n",
      " [    8     0     0     0   123]]\n"
     ]
    },
    {
     "name": "stderr",
     "output_type": "stream",
     "text": [
      "/home/maia-user/.local/lib/python3.10/site-packages/sklearn/metrics/_classification.py:1565: UndefinedMetricWarning: Precision is ill-defined and being set to 0.0 in labels with no predicted samples. Use `zero_division` parameter to control this behavior.\n",
      "  _warn_prf(average, modifier, f\"{metric.capitalize()} is\", len(result))\n",
      "/home/maia-user/.local/lib/python3.10/site-packages/sklearn/metrics/_classification.py:1565: UndefinedMetricWarning: Precision is ill-defined and being set to 0.0 in labels with no predicted samples. Use `zero_division` parameter to control this behavior.\n",
      "  _warn_prf(average, modifier, f\"{metric.capitalize()} is\", len(result))\n",
      "/home/maia-user/.local/lib/python3.10/site-packages/sklearn/metrics/_classification.py:1565: UndefinedMetricWarning: Precision is ill-defined and being set to 0.0 in labels with no predicted samples. Use `zero_division` parameter to control this behavior.\n",
      "  _warn_prf(average, modifier, f\"{metric.capitalize()} is\", len(result))\n"
     ]
    }
   ],
   "source": [
    "# 加入真实样本（每类尽量保留全部）和 BENIGN 样本\n",
    "benign_df = df[df[\"Label\"] == \"BENIGN\"].sample(n=100000, random_state=42)\n",
    "real_rare_df = df[df[\"Label\"] == \"Heartbleed\"] # 所有真实稀有类样本\n",
    "\n",
    "# 合并训练集\n",
    "train_df = pd.concat([benign_df, real_rare_df, final_synthetic_data], ignore_index=True)\n",
    "\n",
    "# 检查类别分布\n",
    "print(train_df[\"Label\"].value_counts())\n",
    "\n",
    "\n",
    "\n",
    "# 特征和标签拆分\n",
    "X = small_df.drop(columns=[\"Label\"])\n",
    "y = small_df[\"Label\"]\n",
    "\n",
    "# 数据划分\n",
    "X_train1, X_test1, y_train1, y_test1 = train_test_split(X, y, stratify=y, test_size=0.2, random_state=42)\n",
    "\n",
    "# 训练 baseline 模型（随机森林）\n",
    "clf1 = RandomForestClassifier(n_estimators=100, random_state=42)\n",
    "clf1.fit(X_train1, y_train1)\n",
    "\n",
    "# 评估模型\n",
    "y_pred1 = clf1.predict(X_test1)\n",
    "print(\"📊 分类报告:\")\n",
    "print(classification_report(y_test1, y_pred1))\n",
    "print(\"📉 混淆矩阵:\")\n",
    "print(confusion_matrix(y_test1, y_pred1))"
   ]
  },
  {
   "cell_type": "code",
   "execution_count": 14,
   "id": "17d23a5e-7f37-4712-96c0-4a20e0e14a45",
   "metadata": {},
   "outputs": [
    {
     "name": "stdout",
     "output_type": "stream",
     "text": [
      "📊 分类报告:\n",
      "                            precision    recall  f1-score   support\n",
      "\n",
      "                    BENIGN       1.00      1.00      1.00     20000\n",
      "                Heartbleed       1.00      1.00      1.00         2\n",
      "              Infiltration       1.00      0.71      0.83         7\n",
      "Web Attack � Sql Injection       0.00      0.00      0.00         4\n",
      "          Web Attack � XSS       1.00      0.94      0.97       131\n",
      "\n",
      "                  accuracy                           1.00     20144\n",
      "                 macro avg       0.80      0.73      0.76     20144\n",
      "              weighted avg       1.00      1.00      1.00     20144\n",
      "\n",
      "📉 混淆矩阵:\n",
      "[[20000     0     0     0     0]\n",
      " [    0     2     0     0     0]\n",
      " [    2     0     5     0     0]\n",
      " [    4     0     0     0     0]\n",
      " [    8     0     0     0   123]]\n"
     ]
    },
    {
     "name": "stderr",
     "output_type": "stream",
     "text": [
      "/home/maia-user/.local/lib/python3.10/site-packages/sklearn/metrics/_classification.py:1565: UndefinedMetricWarning: Precision is ill-defined and being set to 0.0 in labels with no predicted samples. Use `zero_division` parameter to control this behavior.\n",
      "  _warn_prf(average, modifier, f\"{metric.capitalize()} is\", len(result))\n",
      "/home/maia-user/.local/lib/python3.10/site-packages/sklearn/metrics/_classification.py:1565: UndefinedMetricWarning: Precision is ill-defined and being set to 0.0 in labels with no predicted samples. Use `zero_division` parameter to control this behavior.\n",
      "  _warn_prf(average, modifier, f\"{metric.capitalize()} is\", len(result))\n",
      "/home/maia-user/.local/lib/python3.10/site-packages/sklearn/metrics/_classification.py:1565: UndefinedMetricWarning: Precision is ill-defined and being set to 0.0 in labels with no predicted samples. Use `zero_division` parameter to control this behavior.\n",
      "  _warn_prf(average, modifier, f\"{metric.capitalize()} is\", len(result))\n"
     ]
    }
   ],
   "source": [
    "# 评估模型\n",
    "y_pred = clf1.predict(X_test)\n",
    "print(\"📊 分类报告:\")\n",
    "print(classification_report(y_test, y_pred))\n",
    "print(\"📉 混淆矩阵:\")\n",
    "print(confusion_matrix(y_test, y_pred))"
   ]
  },
  {
   "cell_type": "code",
   "execution_count": null,
   "id": "9183dd8d-b451-4463-b7c9-565640cd64fb",
   "metadata": {},
   "outputs": [],
   "source": []
  }
 ],
 "metadata": {
  "kernelspec": {
   "display_name": "Python 3 (ipykernel)",
   "language": "python",
   "name": "python3"
  },
  "language_info": {
   "codemirror_mode": {
    "name": "ipython",
    "version": 3
   },
   "file_extension": ".py",
   "mimetype": "text/x-python",
   "name": "python",
   "nbconvert_exporter": "python",
   "pygments_lexer": "ipython3",
   "version": "3.10.12"
  }
 },
 "nbformat": 4,
 "nbformat_minor": 5
}
